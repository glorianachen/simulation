{
 "cells": [
  {
   "cell_type": "code",
   "execution_count": 145,
   "metadata": {},
   "outputs": [],
   "source": [
    "import pandas as pd\n",
    "\n",
    "routeIdSel = 26\n",
    "\n"
   ]
  },
  {
   "cell_type": "code",
   "execution_count": 148,
   "metadata": {},
   "outputs": [
    {
     "name": "stdout",
     "output_type": "stream",
     "text": [
      "     route_id route_short_name                      route_long_name  \\\n",
      "0        7634                1   Marietta Blvd/Joseph E Lowery Blvd   \n",
      "1        7635                2   Ponce de Leon Avenue / Druid Hills   \n",
      "2        7636                3  Martin Luther King Jr Dr/Auburn Ave   \n",
      "3        7637                4                      Moreland Avenue   \n",
      "4        7638                5        Piedmont Road / Sandy Springs   \n",
      "..        ...              ...                                  ...   \n",
      "110      8766             BLUE                  BLUE-East/West Line   \n",
      "111      8746             GOLD        GOLD-Northeast Doraville Line   \n",
      "112      8748            GREEN             GREEN-Proctor Creek Line   \n",
      "113      8747              RED   RED-North South North Springs Line   \n",
      "114     11843           ATL SC                    Atlanta Streetcar   \n",
      "\n",
      "     route_desc  route_type  route_url route_color  route_text_color  \n",
      "0           NaN           3        NaN      819FF7               NaN  \n",
      "1           NaN           3        NaN      819FF7               NaN  \n",
      "2           NaN           3        NaN      819FF7               NaN  \n",
      "3           NaN           3        NaN      819FF7               NaN  \n",
      "4           NaN           3        NaN      819FF7               NaN  \n",
      "..          ...         ...        ...         ...               ...  \n",
      "110         NaN           1        NaN      0101DF               NaN  \n",
      "111         NaN           1        NaN      FFBF00               NaN  \n",
      "112         NaN           1        NaN      04B404               NaN  \n",
      "113         NaN           1        NaN      FF0000               NaN  \n",
      "114         NaN           1        NaN      FF0000               NaN  \n",
      "\n",
      "[115 rows x 8 columns]\n",
      "    route_id route_short_name                    route_long_name  route_desc  \\\n",
      "15      7650               26  Marietta Street / Perry Boulevard         NaN   \n",
      "\n",
      "    route_type  route_url route_color  route_text_color  \n",
      "15           3        NaN      819FF7               NaN  \n"
     ]
    }
   ],
   "source": [
    "routes = pd.read_table(r'routes.txt')\n",
    "routesdf = pd.DataFrame(routes)\n",
    "print(routesdf)\n",
    "\n",
    "\n",
    "# routeIdSel = 7735\n",
    "routeIdSel = 7650\n",
    "\n",
    "\n",
    "routeSel = routesdf[routesdf['route_id'] == routeIdSel]\n",
    "print(routeSel)\n"
   ]
  },
  {
   "cell_type": "code",
   "execution_count": 153,
   "metadata": {
    "scrolled": false
   },
   "outputs": [
    {
     "name": "stdout",
     "output_type": "stream",
     "text": [
      "      route_id  service_id  trip_id trip_headsign  direction_id  block_id  \\\n",
      "3401      7650           3  6707595           NaN             0    360863   \n",
      "3402      7650           3  6707682           NaN             0    359865   \n",
      "3403      7650           3  6733003           NaN             0    359865   \n",
      "3405      7650           3  6707594           NaN             0    360863   \n",
      "3406      7650           3  6722021           NaN             0    359865   \n",
      "...        ...         ...      ...           ...           ...       ...   \n",
      "3616      7650           5  6697215           NaN             0    360864   \n",
      "3618      7650           5  6700997           NaN             0    359868   \n",
      "3620      7650           5  6706726           NaN             0    360869   \n",
      "3621      7650           5  6706642           NaN             0    360864   \n",
      "3622      7650           5  6730957           NaN             0    361086   \n",
      "\n",
      "      shape_id  \n",
      "3401    109717  \n",
      "3402    109729  \n",
      "3403    109729  \n",
      "3405    109717  \n",
      "3406    109729  \n",
      "...        ...  \n",
      "3616    109717  \n",
      "3618    109729  \n",
      "3620    109729  \n",
      "3621    109717  \n",
      "3622    109717  \n",
      "\n",
      "[113 rows x 7 columns]\n",
      "Empty DataFrame\n",
      "Columns: [route_id, service_id, trip_id, trip_headsign, direction_id, block_id, shape_id]\n",
      "Index: []\n",
      "Series([], Name: trip_id, dtype: int64)\n"
     ]
    }
   ],
   "source": [
    "trips = pd.read_table(r'trips.txt')\n",
    "tripsdf = pd.DataFrame(trips)\n",
    "tripsdf\n",
    "\n",
    "# routeIdSel = 7735\n",
    "\n",
    "tripSel = tripsdf[tripsdf['route_id'] == routeIdSel]\n",
    "tripSel = tripSel[tripSel['direction_id'] == 0]\n",
    "print(tripSel)\n",
    "tripSel.to_csv(r'processed/26tripSel_dir_0.csv')\n",
    "\n",
    "rowSel = tripSel[229:230]\n",
    "print(rowSel)\n",
    "\n",
    "\n",
    "tripId =  rowSel[\"trip_id\"]\n",
    "print(tripId)\n",
    "\n",
    "\n",
    "\n",
    "# print(tripId.dtypes)\n",
    "# print(routeIdSel.dtypes)\n",
    "\n",
    "\n",
    "# rowFirst = tripId\n",
    "\n",
    "\n",
    "# rowFirst = trips.irow(0)\n",
    "\n",
    "# tripId = tripSel[\"trip_id\"]\n",
    "# tripId"
   ]
  },
  {
   "cell_type": "code",
   "execution_count": 143,
   "metadata": {},
   "outputs": [
    {
     "name": "stdout",
     "output_type": "stream",
     "text": [
      "         trip_id arrival_time departure_time  stop_id  stop_sequence\n",
      "0        6694095     19:00:00       19:00:00   903391              1\n",
      "1        6694095     19:02:04       19:02:04   900881              2\n",
      "2        6694095     19:02:53       19:02:53   900835              3\n",
      "3        6694095     19:03:38       19:03:38   903387              4\n",
      "4        6694095     19:04:08       19:04:08   900836              5\n",
      "...          ...          ...            ...      ...            ...\n",
      "1048570  6730588     14:21:55       14:21:55   900203             36\n",
      "1048571  6730588     14:22:11       14:22:11   900205             37\n",
      "1048572  6730588     14:22:21       14:22:21   900206             38\n",
      "1048573  6730588     14:23:01       14:23:01   900196             39\n",
      "1048574  6730588     14:23:32       14:23:32   900171             40\n",
      "\n",
      "[1048575 rows x 5 columns]\n",
      "         trip_id arrival_time departure_time  stop_id  stop_sequence\n",
      "14       6694095     19:09:11       19:09:11   213637             15\n",
      "15       6694095     19:09:27       19:09:27   901028             16\n",
      "16       6694095     19:09:47       19:09:47   903271             17\n",
      "17       6694095     19:10:50       19:10:50   903423             18\n",
      "71       6694096      5:50:14        5:50:14   210031             15\n",
      "...          ...          ...            ...      ...            ...\n",
      "1048503  6730587      8:34:38        8:34:38   902619             18\n",
      "1048549  6730588     14:08:00       14:08:00   901370             15\n",
      "1048550  6730588     14:09:15       14:09:15   900829             16\n",
      "1048551  6730588     14:09:56       14:09:56   900828             17\n",
      "1048552  6730588     14:10:27       14:10:27   903317             18\n",
      "\n",
      "[83368 rows x 5 columns]\n",
      "         trip_id arrival_time departure_time  stop_id  stop_sequence\n",
      "1016777  6729676     16:54:00       16:54:00   213073              1\n",
      "1016778  6729676     16:54:38       16:54:38   213086              2\n",
      "1016779  6729676     16:57:24       16:57:24   210361              3\n",
      "1016780  6729676     16:58:50       16:58:50   210563              4\n",
      "1016781  6729676     16:59:20       16:59:20   211916              5\n",
      "1016782  6729676     16:59:55       16:59:55   210380              6\n",
      "1016783  6729676     17:00:49       17:00:49   902610              7\n",
      "1016784  6729676     17:02:35       17:02:35   213081              8\n",
      "1016785  6729676     17:04:00       17:04:00   213072              9\n",
      "1016786  6729676     17:05:53       17:05:53   213078             10\n",
      "1016787  6729676     17:07:29       17:07:29   213112             11\n",
      "1016788  6729676     17:08:07       17:08:07   211458             12\n",
      "1016789  6729676     17:08:37       17:08:37   213075             13\n",
      "1016790  6729676     17:10:09       17:10:09   213070             14\n",
      "1016791  6729676     17:10:46       17:10:46   900908             15\n",
      "1016792  6729676     17:13:00       17:13:00   901262             16\n",
      "1016793  6729676     17:13:55       17:13:55   101156             17\n",
      "1016794  6729676     17:14:48       17:14:48   101162             18\n",
      "1016795  6729676     17:15:18       17:15:18   101165             19\n",
      "1016796  6729676     17:15:43       17:15:43   101135             20\n",
      "1016797  6729676     17:16:24       17:16:24   101137             21\n",
      "1016798  6729676     17:16:59       17:16:59   210570             22\n",
      "1016799  6729676     17:17:39       17:17:39   210571             23\n",
      "1016800  6729676     17:18:35       17:18:35   213084             24\n",
      "1016801  6729676     17:19:09       17:19:09   213085             25\n",
      "1016802  6729676     17:20:00       17:20:00   114900             26\n",
      "         trip_id arrival_time departure_time  stop_id  stop_sequence\n",
      "1016791  6729676     17:10:46       17:10:46   900908             15\n",
      "1016792  6729676     17:13:00       17:13:00   901262             16\n",
      "1016793  6729676     17:13:55       17:13:55   101156             17\n",
      "1016794  6729676     17:14:48       17:14:48   101162             18\n"
     ]
    }
   ],
   "source": [
    "stop_times = pd.read_table(r'stop_times.txt')\n",
    "stop_time_df = pd.DataFrame(stop_times)\n",
    "print(stop_time_df)\n",
    "\n",
    "# stop_time_allnearby = stop_time_df[ (stop_time_df['stop_sequence'] >= 15) & (stop_time_df['stop_sequence'] <= 18) ]\n",
    "# print(stop_time_allnearby)\n",
    "# stop_time_allnearby.to_csv(r'processed/stop_time_allnearby.csv')\n",
    "\n",
    "\n",
    "stop_time_sel = stop_time_df[stop_time_df['trip_id'] == 6707595]\n",
    "print(stop_time_sel)\n",
    "stop_time_sel.to_csv(r'processed/26trip_6707595_dir_1.csv')\n",
    "\n",
    "stop_time_nearby = stop_time_sel[ (stop_time_sel['stop_sequence'] >= 15) & (stop_time_sel['stop_sequence'] <= 18) ]\n",
    "print(stop_time_nearby)\n",
    "stop_time_nearby.to_csv(r'processed/26trip_6707595_dir_1_nearby.csv')\n",
    "\n",
    "\n",
    "# stop_time_sel = stop_time_df[stop_time_df[\"trip_id\"] == tripId]\n",
    "# print(stop_time_sel)"
   ]
  },
  {
   "cell_type": "code",
   "execution_count": 109,
   "metadata": {},
   "outputs": [
    {
     "name": "stdout",
     "output_type": "stream",
     "text": [
      "      stop_id  stop_code                          stop_name   stop_lat  \\\n",
      "4745   213073     213073  SPRING GROVE AVE @ HOWELL MILL RD  33.803269   \n",
      "\n",
      "       stop_lon  \n",
      "4745 -84.415336  \n",
      "4745    SPRING GROVE AVE @ HOWELL MILL RD\n",
      "Name: stop_name, dtype: object\n"
     ]
    }
   ],
   "source": [
    "stops = pd.read_table(r'stops.txt')\n",
    "stops\n",
    "\n",
    "\n",
    "stops_sel = stops[stops['stop_id'] == 213073]\n",
    "print(stops_sel)\n",
    "\n",
    "stop_name = stops_sel[\"stop_name\"]\n",
    "print(stop_name)\n",
    "\n"
   ]
  },
  {
   "cell_type": "code",
   "execution_count": null,
   "metadata": {},
   "outputs": [],
   "source": []
  },
  {
   "cell_type": "code",
   "execution_count": null,
   "metadata": {},
   "outputs": [],
   "source": []
  },
  {
   "cell_type": "code",
   "execution_count": null,
   "metadata": {},
   "outputs": [],
   "source": []
  },
  {
   "cell_type": "code",
   "execution_count": null,
   "metadata": {},
   "outputs": [],
   "source": []
  }
 ],
 "metadata": {
  "kernelspec": {
   "display_name": "Python 3",
   "language": "python",
   "name": "python3"
  },
  "language_info": {
   "codemirror_mode": {
    "name": "ipython",
    "version": 3
   },
   "file_extension": ".py",
   "mimetype": "text/x-python",
   "name": "python",
   "nbconvert_exporter": "python",
   "pygments_lexer": "ipython3",
   "version": "3.7.3"
  }
 },
 "nbformat": 4,
 "nbformat_minor": 2
}
